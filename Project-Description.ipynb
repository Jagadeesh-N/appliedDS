{
    "cells": [
        {
            "cell_type": "markdown",
            "metadata": {},
            "source": "# The Battle of Neighborhoods | Business Proposal | Introduction"
        },
        {
            "cell_type": "markdown",
            "metadata": {},
            "source": "## 1.Introduction"
        },
        {
            "cell_type": "markdown",
            "metadata": {},
            "source": "### 1.1 BackGround"
        },
        {
            "cell_type": "markdown",
            "metadata": {
                "collapsed": true
            },
            "source": "Mumbai is the capital city of the Indian state of Maharashtra.According to United Nations, as of 2018, Mumbai was the second-most populous city in India after Delhi and the seventh-most populous city in the world with a population of roughly 20 million.Mumbai is the financial, commercial,and the entertainment capital of India.The trend that comes to stay, are restaurants.Although there are a lot of them spread in the city, there are new ones opening all the time. Therefore to analyze locations, types, and the number of these restaurants is a plus for those who want to open a new restaurant in the city."
        },
        {
            "cell_type": "markdown",
            "metadata": {},
            "source": "### 1.2 Problem"
        },
        {
            "cell_type": "markdown",
            "metadata": {},
            "source": "Searching an optimal location to open a restaurant in the city of Mumbai can be challenging. One could think that the better location for it should be at a place where there is no restaurant. But the problem is that perhaps most of the interested customers instead of going to an isolated neighborhood, prefer to go to a popular neighborhood, where there are more options and also there is movement of people. At the same time that the concurrence will be big in these regions, the flux of interested customers in this specific region will be relevant as well. Many people, for example, go on the weekends to a specific restaurant and when they arrive, there is a large line waiting for them. This usually happens because it is also a new trend in Mumbai, in some popular restaurants, not to have an option to make a reservation. The good news is that perhaps some of the customers, those who do not want wait too long in line, might want to search for similar options in the neighborhood."
        },
        {
            "cell_type": "markdown",
            "metadata": {},
            "source": "## 2. Foursquare API:"
        },
        {
            "cell_type": "markdown",
            "metadata": {},
            "source": "This project would use Four-square API as its prime data gathering source as it has a database of millions of places, especially their places API which provides the ability to perform location search, location sharing and details about a business."
        },
        {
            "cell_type": "markdown",
            "metadata": {},
            "source": "## 3.Work Flow:"
        },
        {
            "cell_type": "markdown",
            "metadata": {},
            "source": "Using credentials of Foursquare API features of near-by places of the neighborhoods would be mined. Due to http request limitations the number of places per neighborhood parameter would reasonably be set to 100 and the radius parameter would be set to 2000."
        },
        {
            "cell_type": "markdown",
            "metadata": {},
            "source": "## 4.Clustering Approach:"
        },
        {
            "cell_type": "markdown",
            "metadata": {},
            "source": "We decided to explore neighborhoods, segment them, and group them into clusters to find open new restaurant in a big city like Mumbai. To be able to do that, we need to cluster data which is a form of unsupervised machine learning: k-means clustering algorithm"
        },
        {
            "cell_type": "markdown",
            "metadata": {},
            "source": "## 5.Libraries Which are Used to Develope the Project:"
        },
        {
            "cell_type": "markdown",
            "metadata": {},
            "source": "Pandas: For creating and manipulating dataframes.\n\nFolium: Python visualization library would be used to visualize the neighborhoods cluster distribution of using interactive leaflet map.\n\nScikit Learn: For importing k-means clustering.\n\nJSON: Library to handle JSON files.\n\nXML: To separate data from presentation and XML stores data in plain text format.\n\nGeocoder: To retrieve Location Data.\n\nBeautiful Soup and Requests: To scrap and library to handle http requests.\n\nMatplotlib: Python Plotting Module."
        },
        {
            "cell_type": "markdown",
            "metadata": {},
            "source": "# The Battle of Neighborhoods | Data Description"
        },
        {
            "cell_type": "markdown",
            "metadata": {},
            "source": "## Data Description:"
        },
        {
            "cell_type": "markdown",
            "metadata": {},
            "source": "DataSource:https://en.wikipedia.org/wiki/List_of_neighbourhoods_in_Mumbai\n* DataDescription:This data set contains the required information.And we will use this data set to explore various neighborhoods of Mumbai city."
        },
        {
            "cell_type": "markdown",
            "metadata": {},
            "source": "2.Restaurants in  neighborhood of Mumbai city.\n* Data Source: Foursquare API\n* Description: By using this API we will get all the venues in neighborhood. We can filter these venues to get only restaurants."
        },
        {
            "cell_type": "markdown",
            "metadata": {},
            "source": "## Approach"
        },
        {
            "cell_type": "markdown",
            "metadata": {},
            "source": "Collect the Mumbai city  data from https://en.wikipedia.org/wiki/List_of_neighbourhoods_in_Mumbai\n* Using Foursquare API we will get all venues for each neighborhood.\n* Filter out all venues which have Restaurants.\n* Analysing using Clustering (Specially K-Means):\n1. Find the best value of K\n2. Visualize the neighborhood with number of Restaurants.\n* Compare the Neighborhoods to Find the Best Place for Starting up a Restaurant\n* Inference From these Results and related Conclusion"
        },
        {
            "cell_type": "markdown",
            "metadata": {},
            "source": "## Problem Statement"
        },
        {
            "cell_type": "markdown",
            "metadata": {},
            "source": "* What is the best location for an restaurant in Mumbai City?\n* In what Neighborhood should I open an restaurant to have the best chance of being successful?"
        },
        {
            "cell_type": "code",
            "execution_count": null,
            "metadata": {},
            "outputs": [],
            "source": ""
        }
    ],
    "metadata": {
        "kernelspec": {
            "display_name": "Python 3.6",
            "language": "python",
            "name": "python3"
        },
        "language_info": {
            "codemirror_mode": {
                "name": "ipython",
                "version": 3
            },
            "file_extension": ".py",
            "mimetype": "text/x-python",
            "name": "python",
            "nbconvert_exporter": "python",
            "pygments_lexer": "ipython3",
            "version": "3.6.9"
        }
    },
    "nbformat": 4,
    "nbformat_minor": 1
}